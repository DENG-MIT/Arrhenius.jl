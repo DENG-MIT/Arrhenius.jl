{
 "cells": [
  {
   "cell_type": "markdown",
   "metadata": {},
   "source": [
    "## Package Dependence\n",
    "\n",
    "+ DifferentialEquations / DiffEqSensitivity for ODE solver\n",
    "+ ForwardDiff for auto-differentiation"
   ]
  },
  {
   "cell_type": "code",
   "execution_count": 1,
   "metadata": {},
   "outputs": [],
   "source": [
    "using Arrhenius\n",
    "using LinearAlgebra\n",
    "using DifferentialEquations\n",
    "using ForwardDiff\n",
    "using DiffEqSensitivity\n",
    "using Plots\n",
    "using DelimitedFiles\n",
    "using Profile"
   ]
  },
  {
   "cell_type": "markdown",
   "metadata": {},
   "source": [
    "## Load cantera data\n",
    "For comprisions, we run the simulation in Canetra and save it to file."
   ]
  },
  {
   "cell_type": "code",
   "execution_count": 2,
   "metadata": {},
   "outputs": [],
   "source": [
    "cantera_data = readdlm(\"pyrolysis.dat\")\n",
    "ct_ts= cantera_data[:, 1]\n",
    "ct_T = cantera_data[:, 2]\n",
    "ct_Y = cantera_data[:, 3:end];"
   ]
  },
  {
   "cell_type": "markdown",
   "metadata": {},
   "source": [
    "## Create a struct of solution\n",
    "\n",
    "Similar to Cantera, we create a struct of solution to store all of the kinetic and thermodynamic data.\n",
    "\n",
    "Those infomation are stored in the .yaml file. In addition, to preclude the need of re-invent wheels for interpreting .yaml files, we also rely on the package of ReacTorch to interpret the mechanism and save them into a .npy file.\n",
    "\n",
    "Here is a complete list of keys of the solution [source code](https://github.com/DENG-MIT/Arrhenius.jl/blob/a6e77fa501f8e1bfb0b4bd244b507f0bc10f1f8c/src/DataStructure.jl#L29)\n",
    "\n",
    "```Julia\n",
    "struct Reaction\n",
    "    product_stoich_coeffs::Array{Float64, 2}\n",
    "    reactant_stoich_coeffs::Array{Float64, 2}\n",
    "    reactant_orders::Array{Float64, 2}\n",
    "    is_reversible::Array{Bool, 1}\n",
    "    Arrhenius_coeffs::Array{Float64, 2}\n",
    "    Arrhenius_A0::Array{Float64, 1}\n",
    "    Arrhenius_b0::Array{Float64, 1}\n",
    "    Arrhenius_Ea0::Array{Float64, 1}\n",
    "    Troe_A::Array{Float64, 1}\n",
    "    Troe_T1::Array{Float64, 1}\n",
    "    Troe_T2::Array{Float64, 1}\n",
    "    Troe_T3::Array{Float64, 1}\n",
    "    index_three_body::Array{Int64, 1}\n",
    "    index_falloff::Array{Int64, 1}\n",
    "    efficiencies_coeffs::Array{Float64, 2}\n",
    "    i_reactant::Array{Array{Int64, 1},1}\n",
    "    i_product::Array{Array{Int64, 1},1}\n",
    "    n_reactions::Int64\n",
    "    vk::Array{Float64, 2}\n",
    "    vk_sum::Array{Float64, 1}\n",
    "end\n",
    "\n",
    "struct Thermo\n",
    "    nasa_low::Array{Float64, 2}\n",
    "    nasa_high::Array{Float64, 2}\n",
    "end\n",
    "\n",
    "struct Solution\n",
    "    n_species::Int64\n",
    "    n_reactions::Int64\n",
    "    MW::Vector{Float64}\n",
    "    species_names::Vector{String}\n",
    "    thermo::Thermo\n",
    "    reaction::Reaction\n",
    "end\n",
    "```"
   ]
  },
  {
   "cell_type": "code",
   "execution_count": 3,
   "metadata": {},
   "outputs": [
    {
     "data": {
      "text/plain": [
       "Arrhenius.Solution(40, 232, [136.238, 2.016, 15.035, 16.043, 28.054, 26.037999999999997, 42.081, 78.114, 92.14099999999999, 66.103  …  41.073, 56.064, 53.083999999999996, 56.108, 80.08599999999998, 81.094, 65.095, 77.10600000000001, 93.105, 28.014], [\"C10H16\", \"H2\", \"CH3\", \"CH4\", \"C2H4\", \"C2H2\", \"C3H6\", \"C6H6\", \"C6H5CH3\", \"C5H6\"  …  \"aC3H5\", \"C2H3CHO\", \"c-C4H5\", \"C4H81\", \"C5H4O\", \"C5H5O(2,4)\", \"C5H5\", \"C6H5\", \"C6H5O\", \"N2\"], Arrhenius.Thermo([2.85948209 0.00235106377 … -11781.5129 17.6905061; 2.34433112 0.00798052075 … -917.935173 0.683010238; … ; -0.466204455 0.0413443975 … 4778.58391 27.6990274; 3.298677 0.0014082404 … -1020.8999 3.950372], [18.1657042 0.051774734 … -20050.6251 -82.4466452; 3.3372792 -4.94024731e-5 … -950.158922 -3.20502331; … ; 13.722172 0.0174688771 … 287.274751 -48.818168; 2.92664 0.0014879768 … -922.7977 5.980528]), Arrhenius.Reaction([0.0 0.0 … 0.0 0.0; 0.407143 1.367353 … 0.0 1.0; … ; 0.0 0.0 … 0.0 0.0; 0.0 0.0 … 0.0 0.0], [1.0 1.0 … 0.0 0.0; 0.0 0.0 … 0.0 0.0; … ; 0.0 0.0 … 0.0 0.0; 0.0 0.0 … 0.0 0.0], [1.0 1.0 … 0.0 0.0; 0.0 0.0 … 0.0 0.0; … ; 0.0 0.0 … 0.0 0.0; 0.0 0.0 … 0.0 0.0], Bool[0, 0, 0, 0, 0, 0, 0, 1, 1, 1  …  1, 1, 1, 1, 1, 1, 1, 1, 1, 0], [3.2e15 0.0 72500.0; 18.3 2.765 2551.0; … ; 2.0e12 0.0 58000.0; 2.0e10 0.0 11000.0], [6.328e13, 2.01e11, 1.173e18, 5.07e21, 1.35e18, 3.2000000000000005e21, 2.69e27, 2.2000000000000003e24, 2.4770000000000003e27, 2.565e24, 3.800000000000001e35, 1.4e24, 4.27e52, 1.3300000000000002e54, 3.9100000000000005e54, 6.6000000000000005e69, 4.4e74], [-1.4, -0.584, -2.79, -3.42, -2.57, -3.14, -5.11, -4.8, -4.76, -3.4, -7.64, -3.86, -11.94, -12.0, -12.81, -16.3, -18.28], [0.0, -2293.0, 4191.0, 84350.0, 1425.0, 1230.0, 7095.0, 5560.0, 2440.0, 35798.72, 11900.0, 3320.0, 9769.8, 5967.8, 6250.0, 7000.0, 12994.0], [0.5, 0.7346, 1.0e-16, 0.932, 0.7824, 0.68, 0.5907, 0.758, 0.783, 1.9816, 0.337, 0.782, 0.175, 0.02, 0.104, 1.0, 0.068], [1.0e30, 1756.0, 1.0e-16, 1540.0, 2755.0, 1995.0, 1226.0, 1555.0, 2941.0, 4.2932, 3200.0, 2663.0, 60000.0, 1096.6, 60000.0, 584.9, 4135.8], [1.0e30, 5182.0, 1.0e-16, 10300.0, 6570.0, 5590.0, 5185.0, 4200.0, 6964.0, -0.0795, 4131.0, 6095.0, 10139.8, 6859.5, 6118.4, 6113.0, 5501.9], [1.0e-30, 94.0, 1.0e-16, 197.0, 271.0, 78.0, 275.0, 94.0, 74.0, 5383.7, 1707.0, 207.5, 1340.6, 1096.6, 1606.0, 0.1, 400.7], [12, 16, 17, 18, 46], [19, 21, 37, 49, 50, 51, 58, 71, 77, 107, 118, 124, 137, 170, 177, 193, 216], [1.0 1.0 … 1.0 1.0; 1.0 1.0 … 1.0 1.0; … ; 1.0 1.0 … 1.0 1.0; 1.0 1.0 … 1.0 1.0], [[1], [1, 19], [1, 3], [1, 15], [1, 11], [1, 14], [1, 16], [11, 19], [2, 14], [2, 15]  …  [36], [11, 36], [35], [19, 35], [14, 35], [19, 33], [14, 33], [11, 33], [33], [7, 31]], [[2, 5, 7, 8, 9, 10, 19, 31], [2, 3, 5, 7, 8, 9, 10, 19, 31], [2, 3, 4, 5, 7, 8, 9, 10, 19, 31], [2, 3, 5, 7, 8, 9, 10, 17, 19, 31], [2, 3, 5, 7, 8, 9, 10, 16, 19, 31], [2, 3, 5, 7, 8, 9, 10, 15, 19, 31], [2, 3, 5, 7, 8, 9, 10, 18, 19, 31], [14, 15], [15, 19], [17, 19]  …  [19, 35], [16, 35], [6, 12], [12, 33], [12, 22, 30], [5, 6], [6, 29], [28, 29], [6, 26], [2, 3, 10]], 232, [-1.0 -1.0 … 0.0 0.0; 0.407143 1.367353 … 0.0 1.0; … ; 0.0 0.0 … 0.0 0.0; 0.0 0.0 … 0.0 0.0], [3.7293740000000004, 2.517195, 2.517195, 2.517195, 2.517195, 2.5171950000000005, 2.517195, 0.0, 0.0, 0.0  …  1.0, 0.0, 2.0, 0.0, 1.0, 0.0, 0.0, 0.0, 1.0, 1.0]))"
      ]
     },
     "execution_count": 3,
     "metadata": {},
     "output_type": "execute_result"
    }
   ],
   "source": [
    "gas = CreateSolution(\"../../mechanism/JP10skeletal.yaml\")"
   ]
  },
  {
   "cell_type": "code",
   "execution_count": 4,
   "metadata": {},
   "outputs": [
    {
     "data": {
      "text/plain": [
       "232"
      ]
     },
     "execution_count": 4,
     "metadata": {},
     "output_type": "execute_result"
    }
   ],
   "source": [
    "ns = gas.n_species\n",
    "nr = gas.n_reactions"
   ]
  },
  {
   "cell_type": "code",
   "execution_count": 5,
   "metadata": {},
   "outputs": [
    {
     "data": {
      "text/plain": [
       "40-element Array{String,1}:\n",
       " \"C10H16\"\n",
       " \"H2\"\n",
       " \"CH3\"\n",
       " \"CH4\"\n",
       " \"C2H4\"\n",
       " \"C2H2\"\n",
       " \"C3H6\"\n",
       " \"C6H6\"\n",
       " \"C6H5CH3\"\n",
       " \"C5H6\"\n",
       " \"O2\"\n",
       " \"CO\"\n",
       " \"pC3H4\"\n",
       " ⋮\n",
       " \"CH2CHO\"\n",
       " \"C3H3\"\n",
       " \"aC3H5\"\n",
       " \"C2H3CHO\"\n",
       " \"c-C4H5\"\n",
       " \"C4H81\"\n",
       " \"C5H4O\"\n",
       " \"C5H5O(2,4)\"\n",
       " \"C5H5\"\n",
       " \"C6H5\"\n",
       " \"C6H5O\"\n",
       " \"N2\""
      ]
     },
     "execution_count": 5,
     "metadata": {},
     "output_type": "execute_result"
    }
   ],
   "source": [
    "gas.species_names"
   ]
  },
  {
   "cell_type": "markdown",
   "metadata": {},
   "source": [
    "## Impliment governing equations\n",
    "\n",
    "The core functionality of Arrhenius.jl is interpreting chemical kinetic models, and compute the reaction source term. Most of combustion simulations involves of equations on top of reaction source term.\n",
    "\n",
    "This example simulate the pyrolysis under constant pressure conditions. While the pressure is fixed, we need equations to describe the changes of species concentrations and temperature. Species concentrations can be represented in three ways: mass fraction, mole fractions and mole concentrations. Most of combustion software impletes the governing equations using mass fraction or mass fractions divided by density.\n",
    "\n",
    "Therefore, we create arrays to host the initial values of the ODEs."
   ]
  },
  {
   "cell_type": "code",
   "execution_count": 6,
   "metadata": {},
   "outputs": [],
   "source": [
    "Y0 = zeros(ns)\n",
    "Y0[species_index(gas, \"C10H16\")] = 0.05\n",
    "Y0[species_index(gas, \"N2\")] = 0.95\n",
    "T0 = 1200.0   #K\n",
    "P = one_atm\n",
    "u0 = vcat(Y0, T0);"
   ]
  },
  {
   "cell_type": "markdown",
   "metadata": {},
   "source": [
    "One of the cool features of Julia language is that writing julia code is like write math equations. Once you know the governing equations, it is easy to implement the governing equations. In the governing equations, we have some magic functions to derive all relevent internal variables from the exposed variables of mass fraction Y and temperature T.\n",
    "\n",
    "Notebly\n",
    "\n",
    "* mean molecular weights `mean_MW = 1. / dot(Y, 1 ./ gas.MW)`\n",
    "* density\n",
    "* mass fraction to mole fraction Y2X\n",
    "* mass fraction to mole concentration Y2C\n",
    "* cp_mole\n",
    "* h_mole (enthapy)\n",
    "* S0 (entropy)\n",
    "* wdot = dC/dt\n",
    "* Ydot = dY/dt\n",
    "* Tdot = dT/dt"
   ]
  },
  {
   "cell_type": "code",
   "execution_count": 7,
   "metadata": {},
   "outputs": [
    {
     "data": {
      "text/plain": [
       "dudt! (generic function with 1 method)"
      ]
     },
     "execution_count": 7,
     "metadata": {},
     "output_type": "execute_result"
    }
   ],
   "source": [
    "@inbounds function dudt!(du, u, p, t)\n",
    "    T = u[end]\n",
    "    Y = @view(u[1:ns])\n",
    "    mean_MW = 1. / dot(Y, 1 ./ gas.MW)\n",
    "    ρ_mass = P / R / T * mean_MW\n",
    "    X = Y2X(gas, Y, mean_MW)\n",
    "    C = Y2C(gas, Y, ρ_mass)\n",
    "    cp_mole, cp_mass = get_cp(gas, T, X, mean_MW)\n",
    "    h_mole = get_H(gas, T, Y, X)\n",
    "    S0 = get_S(gas, T, P, X)\n",
    "    wdot = wdot_func(gas.reaction, T, C, S0, h_mole)\n",
    "    Ydot = wdot / ρ_mass .* gas.MW\n",
    "    Tdot = -dot(h_mole, wdot) / ρ_mass / cp_mass\n",
    "    du .= vcat(Ydot, Tdot)\n",
    "end"
   ]
  },
  {
   "cell_type": "markdown",
   "metadata": {},
   "source": [
    "## Solve the governing equations"
   ]
  },
  {
   "cell_type": "code",
   "execution_count": null,
   "metadata": {
    "scrolled": true
   },
   "outputs": [],
   "source": [
    "tspan = [0.0, 0.07];\n",
    "prob = ODEProblem(dudt!, u0, tspan);\n",
    "sol = solve(prob, TRBDF2(), reltol=1e-6, abstol=1e-9);"
   ]
  },
  {
   "cell_type": "markdown",
   "metadata": {},
   "source": [
    "## Validation with Cantera"
   ]
  },
  {
   "cell_type": "code",
   "execution_count": null,
   "metadata": {},
   "outputs": [],
   "source": [
    "plt = plot(sol.t, sol[species_index(gas, \"C10H16\"), :], lw=2, label=\"Arrhenius.jl\");\n",
    "plot!(plt, ct_ts, ct_Y[:, species_index(gas, \"C10H16\")], label=\"Cantera\")\n",
    "ylabel!(plt, \"Mass Fraction of C10H16\")\n",
    "xlabel!(plt, \"Time [s]\")\n",
    "pltT = plot(sol.t, sol[end, :], lw=2, label=\"Arrhenius.jl\");\n",
    "plot!(pltT, ct_ts, ct_T, label=\"Cantera\")\n",
    "ylabel!(pltT, \"Temperature [K]\")\n",
    "xlabel!(pltT, \"Time [s]\")\n",
    "title!(plt, \"JP10 pyrolysis @1200K/1atm\")\n",
    "pltsum = plot(plt, pltT, legend=true, framestyle=:box)"
   ]
  },
  {
   "cell_type": "markdown",
   "metadata": {},
   "source": [
    "## AD across the ODE solver\n",
    "\n",
    "One of the most important motivation for Arrhenius.jl is bring convinient differential programing to combustion research community. While sensitivity analysis has been widely used in combustion community for identify controlling processes, the AD offers us far more benefit than analyzing. With AD, when can accurately compute the gradient of quantity of initerest to model parameters and then employ gradient descent to optimize the model and designs.\n",
    "\n",
    "Such benefits are now avaliable before since computing gradient with finite difference will lead to inaccurate gradients and it is in effcient."
   ]
  },
  {
   "cell_type": "markdown",
   "metadata": {},
   "source": [
    "## Choice of ODE solver\n",
    "\n",
    "By fault, `Rosenbrock23()` and `TRBDF()` are recommanded. Since the backward pass could be high-dimensional, TRBDF could be more effcient.\n",
    "\n",
    "You can use `@time` to profile the code time and memory cost. Pay attentions to the memory allocation."
   ]
  },
  {
   "cell_type": "markdown",
   "metadata": {},
   "source": [
    "## Choice of AD\n",
    "\n",
    "Currently, Arrhenius.jl only supports forward-mode AD, which is also the most effcient approach when the number of parameters is in the order of hundreds."
   ]
  },
  {
   "cell_type": "code",
   "execution_count": null,
   "metadata": {},
   "outputs": [],
   "source": [
    "# sensealg = InterpolatingAdjoint(autojacvec=ReverseDiffVJP(false))\n",
    "# sensealg = BacksolveAdjoint(autojacvec=ReverseDiffVJP(false))\n",
    "sensealg = ForwardDiffSensitivity()\n",
    "# sensealg = SensitivityADPassThrough()\n",
    "# sensealg = ForwardSensitivity(autojacvec=true)\n",
    "# alg = Rosenbrock23()\n",
    "alg = TRBDF2()\n",
    "function fsol(u0)\n",
    "    sol = solve(prob, u0=u0, alg, tspan = (0.0, 7.e-2),\n",
    "                reltol=1e-3, abstol=1e-6, sensealg=sensealg)\n",
    "    return sol[end, end]\n",
    "end\n",
    "u0[end] = 1200.0 + rand()\n",
    "println(\"timing ode solver ...\")\n",
    "@time fsol(u0)\n",
    "@time fsol(u0)\n",
    "@time ForwardDiff.gradient(fsol, u0)\n",
    "@time ForwardDiff.gradient(fsol, u0)"
   ]
  }
 ],
 "metadata": {
  "kernelspec": {
   "display_name": "Julia 1.5.2",
   "language": "julia",
   "name": "julia-1.5"
  },
  "language_info": {
   "file_extension": ".jl",
   "mimetype": "application/julia",
   "name": "julia",
   "version": "1.5.2"
  }
 },
 "nbformat": 4,
 "nbformat_minor": 4
}
